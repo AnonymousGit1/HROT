{
 "cells": [
  {
   "cell_type": "code",
   "execution_count": 1,
   "id": "8f4127c7-36a1-4ede-9663-b95d6362fd20",
   "metadata": {},
   "outputs": [],
   "source": [
    "import numpy as np\n",
    "import torch\n",
    "import ot\n",
    "import matplotlib.pylab as pl\n",
    "import ot.plot\n",
    "import time"
   ]
  },
  {
   "cell_type": "code",
   "execution_count": 2,
   "id": "10ee97db-86c6-4584-ba58-dbbabff3e313",
   "metadata": {},
   "outputs": [],
   "source": [
    "import sys\n",
    "sys.path.append('../code/')\n",
    "from generate_data import make_data"
   ]
  },
  {
   "cell_type": "code",
   "execution_count": 3,
   "id": "e17e4e7f-b43d-4c10-828b-fcfdb453a949",
   "metadata": {},
   "outputs": [
    {
     "name": "stdout",
     "output_type": "stream",
     "text": [
      "Used device: cpu\n"
     ]
    }
   ],
   "source": [
    "device = 'cuda' if torch.cuda.is_available() else 'cpu'\n",
    "\n",
    "device='cpu'\n",
    "dtype = torch.DoubleTensor\n",
    "print('Used device: '+device)"
   ]
  },
  {
   "cell_type": "code",
   "execution_count": 4,
   "id": "e589c363-3a47-41ec-95f6-3fb0b7cbbefb",
   "metadata": {},
   "outputs": [],
   "source": [
    "n,d=50,50\n",
    "np.random.seed(0)\n",
    "X,_=make_data('iso_gaussians',n,d)\n",
    "Y,_=make_data('iso_gaussians',n-1,d)\n",
    "y2=torch.zeros((1,d))\n",
    "y2[:,0]=-7\n",
    "Y=torch.concatenate((Y,y2),axis=0)\n",
    "C=ot.dist(X,Y)"
   ]
  },
  {
   "cell_type": "code",
   "execution_count": 5,
   "id": "2e38cbaf-54a9-4106-8ef1-d35161f6af31",
   "metadata": {},
   "outputs": [
    {
     "data": {
      "text/plain": [
       "tensor([[-7.,  0.,  0.,  0.,  0.,  0.,  0.,  0.,  0.,  0.,  0.,  0.,  0.,  0.,\n",
       "          0.,  0.,  0.,  0.,  0.,  0.,  0.,  0.,  0.,  0.,  0.,  0.,  0.,  0.,\n",
       "          0.,  0.,  0.,  0.,  0.,  0.,  0.,  0.,  0.,  0.,  0.,  0.,  0.,  0.,\n",
       "          0.,  0.,  0.,  0.,  0.,  0.,  0.,  0.]])"
      ]
     },
     "execution_count": 5,
     "metadata": {},
     "output_type": "execute_result"
    }
   ],
   "source": [
    "y2"
   ]
  },
  {
   "cell_type": "code",
   "execution_count": 6,
   "id": "5f35230c-d8f9-4093-a4e3-513c000711af",
   "metadata": {},
   "outputs": [],
   "source": [
    "a=torch.ones((n,))\n",
    "b=torch.ones((n,))\n",
    "#b=torch.randint(1, 5, (n,),dtype=float)\n",
    "#b/=torch.sum(b)\n",
    "#b=b.float()"
   ]
  },
  {
   "cell_type": "code",
   "execution_count": 7,
   "id": "11de21a3-20b0-4575-bbb8-3fb7d6f3533f",
   "metadata": {},
   "outputs": [
    {
     "data": {
      "text/plain": [
       "(-10.0, 10.0)"
      ]
     },
     "execution_count": 7,
     "metadata": {},
     "output_type": "execute_result"
    },
    {
     "data": {
      "image/png": "[encoded data removed]",
      "text/plain": [
       "<Figure size 432x432 with 1 Axes>"
      ]
     },
     "metadata": {
      "needs_background": "light"
     },
     "output_type": "display_data"
    }
   ],
   "source": [
    "s=10\n",
    "pl.figure(figsize=(6,6))\n",
    "pl.scatter(X[:, 0], X[:, 1], c='C0',s=s)\n",
    "pl.scatter(Y[:, 0], Y[:, 1], c='C1',s=s)\n",
    "pl.xlim(-10,10)\n",
    "pl.ylim(-10,10)"
   ]
  },
  {
   "cell_type": "code",
   "execution_count": 17,
   "id": "2d1a0c94-ebb0-44b7-9b64-f9f6df3748e3",
   "metadata": {},
   "outputs": [],
   "source": [
    "import cvxpy as cp\n",
    "def UOT_W(a,b,C,lam,lam2=None,Cx=None,Cy=None,innerplan=False,solver=\"ECOS\"):\n",
    "    if lam2 is None:\n",
    "        lam2=lam\n",
    "\n",
    "    n,m=C.shape\n",
    "    \n",
    "        \n",
    "    pi = cp.Variable((n,m))\n",
    "    Qx=cp.Variable((n,n))\n",
    "    Qy=cp.Variable((m,m))\n",
    "\n",
    "    ### penalization Wasserstein ###\n",
    "    objective = cp.Minimize(cp.sum(cp.multiply(pi,C))\n",
    "                +lam*cp.sum(cp.multiply(Qx,Cx))\n",
    "                +lam2*cp.sum(cp.multiply(Qy,Cy)))\n",
    "    constraints = [pi>=0,Qx>=0,Qy>=0,\n",
    "                   Qx@torch.ones(n)==pi@torch.ones(m),\n",
    "                   Qy@torch.ones(m)==(pi.T)@torch.ones(n),\n",
    "                   Qx.T@torch.ones(n)==a,\n",
    "                   Qy.T@torch.ones(m)==b]\n",
    "\n",
    "    prob = cp.Problem(objective, constraints)\n",
    "    result = prob.solve(solver=solver,verbose=True,abstol=1e-3)\n",
    "    if innerplan:\n",
    "        return pi.value,Qx.value,Qy.value\n",
    "    else:\n",
    "        return pi.value"
   ]
  },
  {
   "cell_type": "code",
   "execution_count": 18,
   "id": "d4419245-c89a-44b6-863a-dcd8afd20b80",
   "metadata": {},
   "outputs": [
    {
     "name": "stdout",
     "output_type": "stream",
     "text": [
      "===============================================================================\n",
      "                                     CVXPY                                     \n",
      "                                     v1.4.1                                    \n",
      "===============================================================================\n",
      "(CVXPY) Jan 29 03:00:35 PM: Your problem has 7500 variables, 7 constraints, and 0 parameters.\n",
      "(CVXPY) Jan 29 03:00:35 PM: It is compliant with the following grammars: DCP, DQCP\n",
      "(CVXPY) Jan 29 03:00:35 PM: (If you need to solve this problem multiple times, but with different data, consider using parameters.)\n",
      "(CVXPY) Jan 29 03:00:35 PM: CVXPY will first compile your problem; then, it will invoke a numerical solver to obtain a solution.\n",
      "(CVXPY) Jan 29 03:00:35 PM: Your problem is compiled with the CPP canonicalization backend.\n",
      "-------------------------------------------------------------------------------\n",
      "                                  Compilation                                  \n",
      "-------------------------------------------------------------------------------\n",
      "(CVXPY) Jan 29 03:00:35 PM: Compiling problem (target solver=ECOS).\n",
      "(CVXPY) Jan 29 03:00:35 PM: Reduction chain: Dcp2Cone -> CvxAttr2Constr -> ConeMatrixStuffing -> ECOS\n",
      "(CVXPY) Jan 29 03:00:35 PM: Applying reduction Dcp2Cone\n",
      "(CVXPY) Jan 29 03:00:35 PM: Applying reduction CvxAttr2Constr\n",
      "(CVXPY) Jan 29 03:00:35 PM: Applying reduction ConeMatrixStuffing\n",
      "(CVXPY) Jan 29 03:00:35 PM: Applying reduction ECOS\n",
      "(CVXPY) Jan 29 03:00:35 PM: Finished problem compilation (took 5.175e-02 seconds).\n",
      "-------------------------------------------------------------------------------\n",
      "                                Numerical solver                               \n",
      "-------------------------------------------------------------------------------\n",
      "(CVXPY) Jan 29 03:00:35 PM: Invoking solver ECOS  to obtain a solution.\n",
      "-------------------------------------------------------------------------------\n",
      "                                    Summary                                    \n",
      "-------------------------------------------------------------------------------\n",
      "(CVXPY) Jan 29 03:00:35 PM: Problem status: optimal\n",
      "(CVXPY) Jan 29 03:00:35 PM: Optimal value: 6.531e+02\n",
      "(CVXPY) Jan 29 03:00:35 PM: Compilation took 5.175e-02 seconds\n",
      "(CVXPY) Jan 29 03:00:35 PM: Solver (including time spent in interface) took 2.743e-02 seconds\n",
      "0.09387016296386719\n"
     ]
    }
   ],
   "source": [
    "C=ot.dist(X,Y)\n",
    "Cx=ot.dist(X,X)\n",
    "Cy=ot.dist(Y,Y)\n",
    "\n",
    "start = time.time()\n",
    "P,Qx,Qy=UOT_W(a,b,C,lam=.1,Cx=Cx,Cy=Cy,innerplan=True,solver=\"ECOS\")\n",
    "print(time.time()-start)\n",
    "a_W=P@np.ones(n)\n",
    "b_W=(P.T)@np.ones(n)"
   ]
  },
  {
   "cell_type": "code",
   "execution_count": 10,
   "id": "3d409341-2520-4fc7-98c1-a074fa9a3e93",
   "metadata": {},
   "outputs": [
    {
     "name": "stderr",
     "output_type": "stream",
     "text": [
      "/home/gui/.local/lib/python3.10/site-packages/matplotlib/collections.py:1003: RuntimeWarning: invalid value encountered in sqrt\n",
      "  scale = np.sqrt(self._sizes) * dpi / 72.0 * self._factor\n"
     ]
    },
    {
     "data": {
      "text/plain": [
       "(-10.0, 10.0)"
      ]
     },
     "execution_count": 10,
     "metadata": {},
     "output_type": "execute_result"
    },
    {
     "data": {
      "image/png": "[encoded data removed]",
      "text/plain": [
       "<Figure size 432x432 with 1 Axes>"
      ]
     },
     "metadata": {
      "needs_background": "light"
     },
     "output_type": "display_data"
    }
   ],
   "source": [
    "s=10\n",
    "pl.figure(figsize=(6,6))\n",
    "ot.plot.plot2D_samples_mat(X, Y, P, c='C2')\n",
    "ot.plot.plot2D_samples_mat(X, X, Qx, c='C0',alpha=0.2)\n",
    "ot.plot.plot2D_samples_mat(Y, Y, Qy, c='C1',alpha=0.2)\n",
    "pl.scatter(X[:, 0], X[:, 1], c='C0',s=a_W*s)\n",
    "pl.scatter(Y[:, 0], Y[:, 1], c='C1',s=b_W*s)\n",
    "pl.scatter(X[:, 0], X[:, 1], c='C0',label=\"$\\mu_1$\",s=s,alpha=.1)\n",
    "pl.scatter(Y[:, 0], Y[:, 1], c='C1',label=\"$\\mu_2$\",s=s,alpha=.1)\n",
    "pl.xlim(-10,10)\n",
    "pl.ylim(-10,10)"
   ]
  },
  {
   "cell_type": "code",
   "execution_count": 11,
   "id": "98a2197b-4f2e-4d4f-9bd7-f6d8fb19f4bc",
   "metadata": {},
   "outputs": [],
   "source": [
    "n,d=50,2\n",
    "np.random.seed(0)\n",
    "X,_=make_data('iso_gaussians',n,d)\n",
    "Y,_=make_data('iso_gaussians',n-1,d)\n",
    "Y=torch.concatenate((Y,torch.tensor([[-5,0]])),axis=0)\n",
    "Y=Y+torch.tensor([10,0])\n",
    "C=ot.dist(X,Y)"
   ]
  },
  {
   "cell_type": "code",
   "execution_count": 12,
   "id": "b2f95c16-6bb6-4293-a279-fc690f427b12",
   "metadata": {},
   "outputs": [
    {
     "data": {
      "text/plain": [
       "(-15.0, 15.0)"
      ]
     },
     "execution_count": 12,
     "metadata": {},
     "output_type": "execute_result"
    },
    {
     "data": {
      "image/png": "[encoded data removed]",
      "text/plain": [
       "<Figure size 432x432 with 1 Axes>"
      ]
     },
     "metadata": {
      "needs_background": "light"
     },
     "output_type": "display_data"
    }
   ],
   "source": [
    "s=10\n",
    "pl.figure(figsize=(6,6))\n",
    "pl.scatter(X[:, 0], X[:, 1], c='C0',s=s)\n",
    "pl.scatter(Y[:, 0], Y[:, 1], c='C1',s=s)\n",
    "pl.xlim(-15,15)\n",
    "pl.ylim(-15,15)"
   ]
  },
  {
   "cell_type": "code",
   "execution_count": 13,
   "id": "55e0bf27-2006-46f2-8ead-7ba255d9c21d",
   "metadata": {},
   "outputs": [
    {
     "name": "stdout",
     "output_type": "stream",
     "text": [
      "0.14048218727111816\n"
     ]
    }
   ],
   "source": [
    "C=ot.dist(X,Y)\n",
    "Cx=ot.dist(X,X)\n",
    "Cy=ot.dist(Y,Y)\n",
    "\n",
    "start = time.time()\n",
    "P,Qx,Qy=UOT_W(a,b,C,lam=1,Cx=Cx,Cy=Cy,innerplan=True,solver=\"CLARABEL\")\n",
    "print(time.time()-start)\n",
    "a_W=P@np.ones(n)\n",
    "b_W=(P.T)@np.ones(n)"
   ]
  },
  {
   "cell_type": "code",
   "execution_count": 14,
   "id": "0e5892fd-829c-45ef-8da8-7e2d36f7282f",
   "metadata": {},
   "outputs": [
    {
     "data": {
      "text/plain": [
       "(-15.0, 15.0)"
      ]
     },
     "execution_count": 14,
     "metadata": {},
     "output_type": "execute_result"
    },
    {
     "data": {
      "image/png": "[encoded data removed]",
      "text/plain": [
       "<Figure size 432x432 with 1 Axes>"
      ]
     },
     "metadata": {
      "needs_background": "light"
     },
     "output_type": "display_data"
    }
   ],
   "source": [
    "s=10\n",
    "pl.figure(figsize=(6,6))\n",
    "ot.plot.plot2D_samples_mat(X, Y, P, c='C2')\n",
    "ot.plot.plot2D_samples_mat(X, X, Qx, c='C0',alpha=0.2)\n",
    "ot.plot.plot2D_samples_mat(Y, Y, Qy, c='C1',alpha=0.2)\n",
    "pl.scatter(X[:, 0], X[:, 1], c='C0',s=a_W*s)\n",
    "pl.scatter(Y[:, 0], Y[:, 1], c='C1',s=b_W*s)\n",
    "pl.scatter(X[:, 0], X[:, 1], c='C0',label=\"$\\mu_1$\",s=s,alpha=.1)\n",
    "pl.scatter(Y[:, 0], Y[:, 1], c='C1',label=\"$\\mu_2$\",s=s,alpha=.1)\n",
    "pl.xlim(-15,15)\n",
    "pl.ylim(-15,15)"
   ]
  },
  {
   "cell_type": "code",
   "execution_count": null,
   "id": "d528aba4-6b5b-4236-987e-e93e9eb765bb",
   "metadata": {},
   "outputs": [],
   "source": []
  }
 ],
 "metadata": {
  "kernelspec": {
   "display_name": "Python 3 (ipykernel)",
   "language": "python",
   "name": "python3"
  },
  "language_info": {
   "codemirror_mode": {
    "name": "ipython",
    "version": 3
   },
   "file_extension": ".py",
   "mimetype": "text/x-python",
   "name": "python",
   "nbconvert_exporter": "python",
   "pygments_lexer": "ipython3",
   "version": "3.10.12"
  }
 },
 "nbformat": 4,
 "nbformat_minor": 5
}
